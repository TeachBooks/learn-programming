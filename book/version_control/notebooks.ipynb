{
 "cells": [
  {
   "cell_type": "markdown",
   "id": "962e8194",
   "metadata": {},
   "source": [
    "# Jupyter notebooks and git\n",
    "\n",
    "Version control systems oriented towards software development and programming are typically focused on **text-based files**: files where the contents are viewable on your computer as human-readable text. **Binary files,** on the other hand, are organized and saved with bits (`0`'s and `1`'s) and are not human-readable. Although this may be a simplified description in terms of the way computers store information (you can read more [here](https://en.wikipedia.org/wiki/Binary_file)), it is enough for our purposes to recognize that text-based files are best suited for use with version control system; in other words, your Python code!\n",
    "\n",
    "* Examples of common text-based file extensions are: `txt`, `md`, `csv`, `ipynb`, `py`, `html`, etc.\n",
    "* Examples of common binary files are: `pdf`, `ppt`, `xlsx`, `docx`, etc.\n",
    "\n",
    "```{admonition} Try it!\n",
    "Try exploring a few files on your computer to confirm wether they are text-based or binary by opening them up in a text editor. You will easily be able to distinguish the difference because one is readable, the other not.\n",
    "\n",
    "Note that in Windows if you are using Notepad (the default), you will want to select  \"Word Wrap\" under the \"Format\" menu to fit the contents of very long lines within the visible width of the window.\n",
    "```\n",
    "\n",
    "## Jupyter Notebooks: JSON-format\n",
    "\n",
    "Jupyter notebooks, `ipynb`, are a special case in the discussion text vs binary. Because while the contents of your Markdown and code cells is saved as text in the file, the output of the code cells is sometimes a binary format. For example, if you create a plot using matplotlib and save the notebook, that plot output will be binary. This unfortunately makes it a little more difficult to use notebooks with version control, but if we are aware of the issue, it is not a problem---we will show you how.\n",
    "\n",
    "If you tried opening up a notebook in the text editor you would have noticed a structure with curly braces, `{}`. This is [JSON-format](https://en.wikipedia.org/wiki/JSON)] (another file type), which the notebook uses to store information in each cell.\n",
    "\n",
    "For example, the following two cells in a jupyter notebook:"
   ]
  },
  {
   "cell_type": "code",
   "execution_count": null,
   "id": "6f894e15",
   "metadata": {},
   "outputs": [],
   "source": [
    "import numpy as np"
   ]
  },
  {
   "cell_type": "code",
   "execution_count": null,
   "id": "c8cea055",
   "metadata": {},
   "outputs": [],
   "source": [
    "np.linspace(0, 1, 10)"
   ]
  },
  {
   "cell_type": "markdown",
   "id": "8c741b3c",
   "metadata": {},
   "source": [
    "Looks as follows, and that's even without output:\n",
    "\n",
    "```yaml\n",
    "{\n",
    " \"cells\": [\n",
    "  {\n",
    "   \"cell_type\": \"code\",\n",
    "   \"execution_count\": 1,\n",
    "   \"id\": \"e7dcf271\",\n",
    "   \"metadata\": {},\n",
    "   \"outputs\": [],\n",
    "   \"source\": [\n",
    "    \"import numpy as np\"\n",
    "   ]\n",
    "  },\n",
    "  {\n",
    "   \"cell_type\": \"code\",\n",
    "   \"execution_count\": 2,\n",
    "   \"id\": \"24165ce8\",\n",
    "   \"metadata\": {},\n",
    "   \"outputs\": [\n",
    "    {\n",
    "     \"data\": {\n",
    "      \"text/plain\": [\n",
    "       \"array([0.        , 0.11111111, 0.22222222, 0.33333333, 0.44444444,\\n\",\n",
    "       \"       0.55555556, 0.66666667, 0.77777778, 0.88888889, 1.        ])\"\n",
    "      ]\n",
    "     },\n",
    "     \"execution_count\": 2,\n",
    "     \"metadata\": {},\n",
    "     \"output_type\": \"execute_result\"\n",
    "    }\n",
    "   ],\n",
    "   \"source\": [\n",
    "    \"np.linspace(0, 1, 10)\"\n",
    "   ]\n",
    "  }\n",
    " ],\n",
    " \"metadata\": {\n",
    "  \"kernelspec\": {\n",
    "   \"display_name\": \"mude-base\",\n",
    "   \"language\": \"python\",\n",
    "   \"name\": \"python3\"\n",
    "  },\n",
    "  \"language_info\": {\n",
    "   \"codemirror_mode\": {\n",
    "    \"name\": \"ipython\",\n",
    "    \"version\": 3\n",
    "   },\n",
    "   \"file_extension\": \".py\",\n",
    "   \"mimetype\": \"text/x-python\",\n",
    "   \"name\": \"python\",\n",
    "   \"nbconvert_exporter\": \"python\",\n",
    "   \"pygments_lexer\": \"ipython3\",\n",
    "   \"version\": \"3.12.11\"\n",
    "  }\n",
    " },\n",
    " \"nbformat\": 4,\n",
    " \"nbformat_minor\": 5\n",
    "}\n",
    "```"
   ]
  },
  {
   "cell_type": "markdown",
   "id": "cca01221",
   "metadata": {},
   "source": [
    "## Notebooks are problematic with git\n",
    "\n",
    "Notebooks are text-based files (JSON format) that should be easy for git to handle. However, when we run cells, the output is stored in the notebook, which can lead to challenges. For example, an image will be converted to a text block that encodes the color of every single pixel inside it. This can quickly become thousands of characters long, which makes it challenging to read. Furthermore, if you run a cell, a counter register how many times you did that. That information is stored in the JSON format too, which means that if you have two exact same version but the counter is different, you might run into trouble.\n",
    "\n",
    "This is a problem because it becomes impractical to use git to work out the conflicts between files when making new commits in a repository. It requires you to compare the JSON format of those files, which is not as intuitive as rendered notebooks you're probably used too.\n",
    "\n",
    "Good practice is to clear output before committing notebooks into your git timeline: the source code\n",
    "\n",
    "There are some tools to ease you in this process, like [Jupytext](https://jupytext.readthedocs.io/en/latest/) and [ReviewNB](https://www.reviewnb.com/), but for now it's best to limit collaboration in ipynb."
   ]
  }
 ],
 "metadata": {
  "language_info": {
   "name": "python"
  }
 },
 "nbformat": 4,
 "nbformat_minor": 5
}
