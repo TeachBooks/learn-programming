{
 "cells": [
  {
   "cell_type": "markdown",
   "metadata": {
    "vscode": {
     "languageId": "plaintext"
    }
   },
   "source": [
    "(golden-rules-descriptive-names)=\n",
    "# Use Descriptive Names\n",
    "\n",
    "```{note}\n",
    "This notebook is meant to be used interactively. Use the \"Live Code\" button under the Rocket Ship icon in the top right to activate the page and use Python interactively!\n",
    "```"
   ]
  }
 ],
 "metadata": {
  "language_info": {
   "name": "python"
  }
 },
 "nbformat": 4,
 "nbformat_minor": 2
}
