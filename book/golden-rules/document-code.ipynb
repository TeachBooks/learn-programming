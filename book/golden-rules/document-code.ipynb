{
 "cells": [
  {
   "cell_type": "markdown",
   "metadata": {
    "vscode": {
     "languageId": "plaintext"
    }
   },
   "source": [
    "(golden-rules-document-code)=\n",
    "# Document Your Code\n",
    "\n"
   ]
  },
  {
   "cell_type": "markdown",
   "metadata": {},
   "source": [
    "## Rule 5: Document your code\n",
    "\n",
    "*I had to hand over my code (semi-english, semi-dutch, unreadable and a complete mess) to real programmers about a year ago and I am still embarrassed by it.*\n",
    "\n",
    "Do you remember what you had for dinner 2 weeks ago? If the answer is **no**, then documenting your code could be useful not only for others, but also for you.\n",
    "\n",
    "Document what your functions and classes are doing. In addition, if you have many nested for loops or some very complex code, do not hesitate to put some in-line comments to describe what your code is doing. Overall, do not overdo it by commenting every single line, but rather try to elaborate in the way you structure your code and give names to your objects. This is why ***Golden Rule*** is closely tied to ***Rule 1: Use descriptive names***: if you do the latter, the use of the former is much less needed. Here are a few examples to illustrate unnecessary comments or poorly documented code: \n",
    "\n",
    "```\n",
    "1 x = case.one + case.too #sum\n",
    "\n",
    "2 f = first.second.third.fourth() #gets the data\n",
    "\n",
    "3 engineeringConcept = 2 * thisAwesomeVariable #multiplication by 2\n",
    "\n",
    "4 global globalVariable ## define global variable globalVar\n",
    "\n",
    "5 for i in range(200): \n",
    "      for j in range(300):\n",
    "          for k in range(i,j):\n",
    "              answer = (i + j)**k\n",
    "\n",
    "6 if a and b or c and d or not b and not c:\n",
    "      print('here')\n",
    "```"
   ]
  },
  {
   "cell_type": "markdown",
   "metadata": {},
   "source": [
    "Did you notice in example 4 that the variable name in the comment didn't match the code? Clearly the variable name changed after the comment was written. To quote PEP 8: *comments that contradict the code are worse than no comments. Always make a priority of keeping the comments up-to-date when the code changes!* Over-reliance on comments to document your code can easily result in a lot of extra work; use of descriptive object names can help minimize the number of comments necessary to provide sufficient documentation.\n",
    "\n",
    "**Rule 5 corollary:** minimize the use of comments---instead rely on descriptive object names to narrate what your code is doing! In notebooks, you can also use markdown cells before the code cell to describe what follows.\n",
    "\n",
    "### Comparison of bad and good documentation\n",
    "\n",
    "The following functions are the same, the only difference is the documentation and object names, can you tell what the function does from the bad example?"
   ]
  },
  {
   "cell_type": "markdown",
   "metadata": {},
   "source": [
    "#### Example with bad documentation "
   ]
  },
  {
   "cell_type": "code",
   "execution_count": null,
   "metadata": {},
   "outputs": [],
   "source": [
    "def HF(h,p):\n",
    "    return 0.5*p*9.81*h**2\n",
    "    \n",
    "print('HF(10,1) = ',HP(10,1))"
   ]
  },
  {
   "cell_type": "markdown",
   "metadata": {},
   "source": [
    "#### Example with good documentation "
   ]
  },
  {
   "cell_type": "code",
   "execution_count": null,
   "metadata": {},
   "outputs": [],
   "source": [
    "def force_on_wall(wall_height, density_water):\n",
    "    '''Calculate hydrostatic force on a vertical wall.'''\n",
    "    return 0.5*density_water*9.81*wall_height**2\n",
    "    \n",
    "print(f'force_on_wall(wall_height=10, density_water=1) = {force_on_wall(10,1):.1f} N')"
   ]
  },
  {
   "cell_type": "markdown",
   "metadata": {},
   "source": [
    "It seems pretty obvious that the second example is more clear, and even if you understood what was happening in the first function, the second one probably would have brought you to the same conclusion much faster. And it didn't take much longer to write the second function.\n",
    "\n",
    "The example above includes a string immediately after the function definition line (`def`), except it uses three quote symbols. This is a ***documentation string***, also known as  a \"***docstring***\" a key tool for documenting your code. It actually has it's own PEP guideline ([PEP 257]() if  you are curious), but we will cover this more on the object-oriented programming page. ***For now, our advice is to get in the habit of at least using a one-line docstring whenever you create function.***\n"
   ]
  },
  {
   "cell_type": "code",
   "execution_count": null,
   "metadata": {},
   "outputs": [],
   "source": [
    "def my_well_documented_function():\n",
    "    \"\"\"Illustrate a simple one-line docstring---that's it!\"\"\"\n",
    "    pass"
   ]
  },
  {
   "cell_type": "markdown",
   "metadata": {},
   "source": [
    "You should use the imperative verb tense, a command, for example: return, integrate or compute. This helps keep the docstring compact. Compare the following one--liners with the non-imperative equivalents:  \n",
    "- `Compute area of circle`  \n",
    "- `Computes the area of a circle`  \n",
    "\n",
    "And:  \n",
    "- `Return int number_of_PSOR_coins`  \n",
    "- `Returns the number of PSOR coins as an integer`  \n",
    "\n",
    "If told us that it seems silly to write a one-line docstring for such a simple function, especially with such descriptive object names, we'd actually agree with you, especially if you were working in a small group of CEG colleagues, or by yourself. However, there is another benefit of adding a docstring: Python automatically knows to include the first line of a docsting in its built-in help functionality. Try it out here by adding a `?` after the function name (this is a handy trick that works in Jupyter notebooks)."
   ]
  },
  {
   "cell_type": "code",
   "execution_count": null,
   "metadata": {},
   "outputs": [],
   "source": [
    "my_well_documented_function?"
   ]
  },
  {
   "cell_type": "markdown",
   "metadata": {},
   "source": [
    "You can also use the `help()` function:"
   ]
  },
  {
   "cell_type": "code",
   "execution_count": null,
   "metadata": {},
   "outputs": [],
   "source": [
    "help(my_well_documented_function)"
   ]
  }
 ],
 "metadata": {
  "language_info": {
   "name": "python"
  }
 },
 "nbformat": 4,
 "nbformat_minor": 2
}
